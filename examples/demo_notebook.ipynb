{
 "cells": [
  {
   "cell_type": "code",
   "execution_count": null,
   "id": "e2f6c259",
   "metadata": {},
   "outputs": [],
   "source": [
    "# Filling in the demo_notebook.ipynb with sample data and basic usage of DataProfiler\n",
    "\n",
    "from nbformat import v4 as nbf\n",
    "\n",
    "notebook = nbf.new_notebook()\n",
    "\n",
    "cells = []"
   ]
  },
  {
   "cell_type": "code",
   "execution_count": null,
   "id": "ca18821d",
   "metadata": {},
   "outputs": [],
   "source": [
    "# 1. Introduction\n",
    "cells.append(nbf.new_markdown_cell(\"# DataQualityChecker Demo\\nThis notebook demonstrates how to use the DataQualityChecker library.\"))"
   ]
  },
  {
   "cell_type": "code",
   "execution_count": null,
   "id": "cd10d34e",
   "metadata": {},
   "outputs": [],
   "source": [
    "# 2. Install necessary packages\n",
    "cells.append(nbf.new_code_cell(\"!pip install pandas seaborn scikit-learn\"))"
   ]
  },
  {
   "cell_type": "code",
   "execution_count": null,
   "id": "4b0c294b",
   "metadata": {},
   "outputs": [],
   "source": [
    "# 3. Import libraries\n",
    "cells.append(nbf.new_code_cell(\"\"\"import pandas as pd\n",
    "import seaborn as sns\n",
    "from dataqualitychecker.profiler import DataProfiler\n",
    "from dataqualitychecker.outliers import detect_outliers_iqr\n",
    "from dataqualitychecker.leakage import check_data_leakage\n",
    "\"\"\"))"
   ]
  },
  {
   "cell_type": "code",
   "execution_count": null,
   "id": "60396737",
   "metadata": {},
   "outputs": [],
   "source": [
    "# 4. Load dataset\n",
    "cells.append(nbf.new_code_cell(\"\"\"# Load sample Titanic dataset\n",
    "df = sns.load_dataset('titanic')\n",
    "df.head()\"\"\"))"
   ]
  },
  {
   "cell_type": "code",
   "execution_count": null,
   "id": "7db05785",
   "metadata": {},
   "outputs": [],
   "source": [
    "# 5. DataProfiler usage\n",
    "cells.append(nbf.new_code_cell(\"\"\"# Initialize the profiler\n",
    "profiler = DataProfiler(df)\n",
    "\n",
    "# Check missing values\n",
    "print(\"Missing Values:\")\n",
    "print(profiler.check_missing())\n",
    "\n",
    "# Check duplicate rows\n",
    "print(\"\\\\nDuplicate Rows:\")\n",
    "print(profiler.check_duplicates())\n",
    "\n",
    "# Check data types\n",
    "print(\"\\\\nData Types:\")\n",
    "print(profiler.check_types())\"\"\"))\n"
   ]
  },
  {
   "cell_type": "code",
   "execution_count": null,
   "id": "b066b3bc",
   "metadata": {},
   "outputs": [],
   "source": [
    "# 6. Check variance and skewness\n",
    "cells.append(nbf.new_code_cell(\"\"\"# Variance and skewness (only for numeric columns)\n",
    "print(\"\\\\nLow Variance Columns:\")\n",
    "print(profiler.check_variance())\n",
    "\n",
    "print(\"\\\\nHighly Skewed Columns:\")\n",
    "print(profiler.check_skewness())\"\"\"))"
   ]
  },
  {
   "cell_type": "code",
   "execution_count": null,
   "id": "f3d6a857",
   "metadata": {},
   "outputs": [],
   "source": [
    "# 7. Outlier detection example\n",
    "cells.append(nbf.new_code_cell(\"\"\"# Outlier detection using IQR method on 'age' column\n",
    "outliers = detect_outliers_iqr(df.dropna(subset=['age']), 'age')\n",
    "print(\"\\\\nDetected Outliers in Age Column:\")\n",
    "outliers[['age']]\"\"\"))"
   ]
  },
  {
   "cell_type": "code",
   "execution_count": null,
   "id": "d9be5714",
   "metadata": {},
   "outputs": [],
   "source": [
    "# 8. Correlation leakage detection\n",
    "cells.append(nbf.new_code_cell(\"\"\"# Correlation-based leakage detection (only numerical & clean data)\n",
    "leakage_df = df.select_dtypes(include='number').dropna()\n",
    "if 'survived' in leakage_df.columns:\n",
    "    print(\"\\\\nPossible Leakage Columns:\")\n",
    "    print(check_data_leakage(leakage_df, target='survived'))\n",
    "else:\n",
    "    print(\"Target column 'survived' not found or not numeric.\")\"\"\"))"
   ]
  },
  {
   "cell_type": "code",
   "execution_count": null,
   "id": "e26e191e",
   "metadata": {},
   "outputs": [],
   "source": [
    "import nbformat\n",
    "\n",
    "# Create a new notebook using v4 format\n",
    "nb = nbformat.v4.new_notebook()\n",
    "nb['cells'] = cells\n",
    "\n",
    "# Write the notebook to the file system\n",
    "with open(demo_path, \"w\") as f:\n",
    "    nbformat.write(nb, f)\n",
    "\n",
    "demo_path"
   ]
  }
 ],
 "metadata": {
  "kernelspec": {
   "display_name": "Python 3",
   "language": "python",
   "name": "python3"
  },
  "language_info": {
   "name": "python",
   "version": "3.13.3"
  }
 },
 "nbformat": 4,
 "nbformat_minor": 5
}
